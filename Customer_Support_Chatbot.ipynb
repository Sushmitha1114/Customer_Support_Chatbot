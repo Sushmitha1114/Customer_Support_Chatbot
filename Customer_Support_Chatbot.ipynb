{
  "nbformat": 4,
  "nbformat_minor": 0,
  "metadata": {
    "colab": {
      "provenance": []
    },
    "kernelspec": {
      "name": "python3",
      "display_name": "Python 3"
    },
    "language_info": {
      "name": "python"
    }
  },
  "cells": [
    {
      "cell_type": "code",
      "execution_count": null,
      "metadata": {
        "colab": {
          "base_uri": "https://localhost:8080/"
        },
        "id": "TByQ3ICDJbfW",
        "outputId": "8bbb3006-389e-4587-d0d0-24367a27ab4d"
      },
      "outputs": [
        {
          "output_type": "stream",
          "name": "stdout",
          "text": [
            "WELCOME TO CUSTOMER SUPPORT CHATBOT\n",
            "enter exit if you want to end the chat\n",
            "You:  help\n",
            "Bot: Please specify your query!!\n",
            "You:  i want one help\n",
            "Bot: Please specify your query!!\n"
          ]
        }
      ],
      "source": [
        "keywords={\n",
        "    \"greetings\":[\"hi\",\"hey\",\"hello\"],\n",
        "    \"order_status\":[\"order\",\"status\",\"shipment\",\"track\"],\n",
        "    \"product_info\":[\"product\",\"information\",\"details\",\"specs\"],\n",
        "    \"return_policy\":[\"return\",\"cancel\",\"refund\"],\n",
        "    \"contact\":[\"call\",\"contact\",\"mail\",\"helpdesk\",\"support\"],\n",
        "    \"help\":[\"help\"],\n",
        "    \"thanks\":[\"thanks\",\"thank\",\"you\",\"tnx\",\"appreciate\"]\n",
        "}\n",
        "responses={\n",
        "    \"greetings\":[\"Hello! how can i assist you today\",\"Hi! how can i helpu with\"],\n",
        "    \"help\":[\"Please specify your query!!\"],\n",
        "    \"order_status\":[\"To check your order status please provide the order_id\",\"To track your order please visit 'my orders' section of our website\"],\n",
        "    \"product_info\":[\"Sure!! what product you are looking for?\",\"You can browse our product catalog in our website for the deatailed information regarding the product\"],\n",
        "    \"return_policy\":[\"Our return policy allows return only within 30 days of the product purchase\",\"Would you like to initiate with return?i would help with that\"],\n",
        "    \"contact\":[\"You can reach out our customer support through the mail customersupport@gmail.com or you can call 1800111000\"],\n",
        "    \"thanks\":[\"You're welcome!anything else i can help you with?\",\"Glad i could assist you!\"],\n",
        "    \"unknown\":[\"Sorry! I couldn't understand what you are trying for could you please rephrase!!\"]\n",
        "}\n",
        "def detect_intent(user_input):\n",
        "  user_input=user_input.lower()\n",
        "  words_in_input=user_input.split()\n",
        "  for word in words_in_input:\n",
        "   for intent,keywords_list in keywords.items():\n",
        "    if word in keywords_list:\n",
        "        return intent\n",
        "  return \"unknown\"\n",
        "import random\n",
        "def chatbot_response(user_input):\n",
        "  intent=detect_intent(user_input)\n",
        "  return random.choice(responses[intent])\n",
        "print(\"WELCOME TO CUSTOMER SUPPORT CHATBOT\")\n",
        "print(\"enter exit if you want to end the chat\")\n",
        "while True:\n",
        "  user_input=input(\"You:  \")\n",
        "  if user_input.lower()==\"exit\":\n",
        "    print(\"Thank you for chatting with us...have a great day!!!\")\n",
        "    break\n",
        "  response=chatbot_response(user_input)\n",
        "  print(\"Bot:\",response)\n",
        "\n"
      ]
    },
    {
      "cell_type": "code",
      "source": [
        "\n"
      ],
      "metadata": {
        "id": "kJMLstPyCYGB"
      },
      "execution_count": null,
      "outputs": []
    },
    {
      "cell_type": "code",
      "source": [],
      "metadata": {
        "id": "97a4N4GUq7WR"
      },
      "execution_count": null,
      "outputs": []
    }
  ]
}